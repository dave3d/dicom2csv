{
 "cells": [
  {
   "cell_type": "code",
   "execution_count": null,
   "metadata": {},
   "outputs": [],
   "source": [
    "import SimpleITK as sitk\n",
    "import dicom2csv"
   ]
  },
  {
   "cell_type": "code",
   "execution_count": null,
   "metadata": {},
   "outputs": [],
   "source": [
    "# Set dicom_dir point to the directory containing your dicom files\n",
    "\n",
    "dicom_dir = '98890234/20030505/CT/CT3'"
   ]
  },
  {
   "cell_type": "code",
   "execution_count": null,
   "metadata": {},
   "outputs": [],
   "source": [
    "\n",
    "if not os.path.exists(dicom_dir):\n",
    "    \n",
    "    import tarfile\n",
    "    import os\n",
    "    import requests\n",
    "   \n",
    "    # Download an example dicom data set\n",
    "\n",
    "    url = 'https://archive.org/download/9889023420030505CT/98890234_20030505_CT.tar.bz2'\n",
    "    r = requests.get(url, allow_redirects=True)\n",
    "\n",
    "    open('98890234_20030505_CT.tar.bz2', 'wb').write(r.content)\n",
    "\n",
    "    mytar = tarfile.open('98890234_20030505_CT.tar.bz2')\n",
    "    mytar.extractall('.')\n",
    "    mytar.close()\n",
    "\n",
    "print(\"Dicom directory:\", dicom_dir)"
   ]
  },
  {
   "cell_type": "code",
   "execution_count": null,
   "metadata": {},
   "outputs": [],
   "source": [
    "# Load the Dicom series into a SimpleITK 3D image\n",
    "\n",
    "img = dicom2csv.loadDicomSeries(dicom_dir)"
   ]
  },
  {
   "cell_type": "code",
   "execution_count": null,
   "metadata": {},
   "outputs": [],
   "source": [
    "# Extract points from the image for intensities in the\n",
    "# range of 500 to 800 Hounsfield Units.  That's basically bone.\n",
    "\n",
    "pts = dicom2csv.img2points(img, 500, 800)"
   ]
  },
  {
   "cell_type": "code",
   "execution_count": null,
   "metadata": {},
   "outputs": [],
   "source": [
    "# Each data entry is X, Y, Z coordinate and Hounsfield unit (pixel intensity)\n",
    "\n",
    "print(pts[0:10000:1000])"
   ]
  },
  {
   "cell_type": "code",
   "execution_count": null,
   "metadata": {},
   "outputs": [],
   "source": [
    "# Extact the point locations and Hounsfield units into separate lists.\n",
    "\n",
    "locs=[]\n",
    "hunits=[]\n",
    "for p in pts:\n",
    "    coord=p[0:3]\n",
    "    locs.append(coord)\n",
    "    hunits.append(p[3])"
   ]
  },
  {
   "cell_type": "code",
   "execution_count": null,
   "metadata": {},
   "outputs": [],
   "source": [
    "locs[0], hunits[0]"
   ]
  },
  {
   "cell_type": "code",
   "execution_count": null,
   "metadata": {},
   "outputs": [],
   "source": [
    "locs[0:20]"
   ]
  },
  {
   "cell_type": "code",
   "execution_count": null,
   "metadata": {},
   "outputs": [],
   "source": [
    "hunits[0:20]"
   ]
  },
  {
   "cell_type": "code",
   "execution_count": null,
   "metadata": {},
   "outputs": [],
   "source": [
    "# Create a VTK point set using PyVista\n",
    "\n",
    "import pyvista as pv\n",
    "pv_points = pv.PolyData(locs)"
   ]
  },
  {
   "cell_type": "code",
   "execution_count": null,
   "metadata": {},
   "outputs": [],
   "source": [
    "pv_points"
   ]
  },
  {
   "cell_type": "code",
   "execution_count": null,
   "metadata": {},
   "outputs": [],
   "source": [
    "# Add the Hounsfield Unit data to the point set\n",
    "\n",
    "pv_points['hounsfield']=hunits"
   ]
  },
  {
   "cell_type": "code",
   "execution_count": null,
   "metadata": {},
   "outputs": [],
   "source": [
    "pv_points"
   ]
  },
  {
   "cell_type": "code",
   "execution_count": null,
   "metadata": {},
   "outputs": [],
   "source": [
    "# Use ITK-Widgets to display our point set\n",
    "\n",
    "import itkwidgets\n",
    "itkwidgets.view(point_sets=[pv_points])"
   ]
  },
  {
   "cell_type": "code",
   "execution_count": null,
   "metadata": {},
   "outputs": [],
   "source": [
    "# Run the dicom2csv.py script to generate a CSV file\n",
    "\n",
    "import sys\n",
    "!{sys.executable} dicom2csv.py $dicom_dir points.csv"
   ]
  },
  {
   "cell_type": "code",
   "execution_count": null,
   "metadata": {},
   "outputs": [],
   "source": []
  }
 ],
 "metadata": {
  "kernelspec": {
   "display_name": "Python 3",
   "language": "python",
   "name": "python3"
  },
  "language_info": {
   "codemirror_mode": {
    "name": "ipython",
    "version": 3
   },
   "file_extension": ".py",
   "mimetype": "text/x-python",
   "name": "python",
   "nbconvert_exporter": "python",
   "pygments_lexer": "ipython3",
   "version": "3.6.10"
  }
 },
 "nbformat": 4,
 "nbformat_minor": 4
}
